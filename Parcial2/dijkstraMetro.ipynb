{
 "cells": [
  {
   "cell_type": "code",
   "execution_count": 1,
   "id": "da0574f6",
   "metadata": {},
   "outputs": [],
   "source": [
    "import pandas as pd\n",
    "import networkx as nx\n",
    "from IPython.display import HTML\n",
    "import matplotlib.pyplot as plt\n",
    "%matplotlib inline"
   ]
  },
  {
   "cell_type": "code",
   "execution_count": 3,
   "id": "96e29cb6",
   "metadata": {},
   "outputs": [
    {
     "data": {
      "text/html": [
       "<div>\n",
       "<style scoped>\n",
       "    .dataframe tbody tr th:only-of-type {\n",
       "        vertical-align: middle;\n",
       "    }\n",
       "\n",
       "    .dataframe tbody tr th {\n",
       "        vertical-align: top;\n",
       "    }\n",
       "\n",
       "    .dataframe thead th {\n",
       "        text-align: right;\n",
       "    }\n",
       "</style>\n",
       "<table border=\"1\" class=\"dataframe\">\n",
       "  <thead>\n",
       "    <tr style=\"text-align: right;\">\n",
       "      <th></th>\n",
       "      <th>nombre</th>\n",
       "      <th>estacion</th>\n",
       "    </tr>\n",
       "  </thead>\n",
       "  <tbody>\n",
       "    <tr>\n",
       "      <th>0</th>\n",
       "      <td>A</td>\n",
       "      <td>Observatorio</td>\n",
       "    </tr>\n",
       "    <tr>\n",
       "      <th>1</th>\n",
       "      <td>B</td>\n",
       "      <td>Tacubaya</td>\n",
       "    </tr>\n",
       "    <tr>\n",
       "      <th>2</th>\n",
       "      <td>C</td>\n",
       "      <td>Juanacatlán</td>\n",
       "    </tr>\n",
       "    <tr>\n",
       "      <th>3</th>\n",
       "      <td>D</td>\n",
       "      <td>Chapultepec</td>\n",
       "    </tr>\n",
       "    <tr>\n",
       "      <th>4</th>\n",
       "      <td>E</td>\n",
       "      <td>Sevilla</td>\n",
       "    </tr>\n",
       "  </tbody>\n",
       "</table>\n",
       "</div>"
      ],
      "text/plain": [
       "  nombre      estacion\n",
       "0      A  Observatorio\n",
       "1      B      Tacubaya\n",
       "2      C   Juanacatlán\n",
       "3      D   Chapultepec\n",
       "4      E       Sevilla"
      ]
     },
     "execution_count": 3,
     "metadata": {},
     "output_type": "execute_result"
    }
   ],
   "source": [
    "datos_nodo = pd.read_csv('datos_nodos_prueba.csv')\n",
    "datos_nodo.head()"
   ]
  },
  {
   "cell_type": "code",
   "execution_count": 4,
   "id": "d88f617c",
   "metadata": {},
   "outputs": [
    {
     "data": {
      "text/html": [
       "<div>\n",
       "<style scoped>\n",
       "    .dataframe tbody tr th:only-of-type {\n",
       "        vertical-align: middle;\n",
       "    }\n",
       "\n",
       "    .dataframe tbody tr th {\n",
       "        vertical-align: top;\n",
       "    }\n",
       "\n",
       "    .dataframe thead th {\n",
       "        text-align: right;\n",
       "    }\n",
       "</style>\n",
       "<table border=\"1\" class=\"dataframe\">\n",
       "  <thead>\n",
       "    <tr style=\"text-align: right;\">\n",
       "      <th></th>\n",
       "      <th>estacion</th>\n",
       "    </tr>\n",
       "    <tr>\n",
       "      <th>nombre</th>\n",
       "      <th></th>\n",
       "    </tr>\n",
       "  </thead>\n",
       "  <tbody>\n",
       "    <tr>\n",
       "      <th>A</th>\n",
       "      <td>Observatorio</td>\n",
       "    </tr>\n",
       "    <tr>\n",
       "      <th>B</th>\n",
       "      <td>Tacubaya</td>\n",
       "    </tr>\n",
       "    <tr>\n",
       "      <th>C</th>\n",
       "      <td>Juanacatlán</td>\n",
       "    </tr>\n",
       "    <tr>\n",
       "      <th>D</th>\n",
       "      <td>Chapultepec</td>\n",
       "    </tr>\n",
       "    <tr>\n",
       "      <th>E</th>\n",
       "      <td>Sevilla</td>\n",
       "    </tr>\n",
       "  </tbody>\n",
       "</table>\n",
       "</div>"
      ],
      "text/plain": [
       "            estacion\n",
       "nombre              \n",
       "A       Observatorio\n",
       "B           Tacubaya\n",
       "C        Juanacatlán\n",
       "D        Chapultepec\n",
       "E            Sevilla"
      ]
     },
     "execution_count": 4,
     "metadata": {},
     "output_type": "execute_result"
    }
   ],
   "source": [
    "datos_nodo.set_index('nombre', inplace = True)\n",
    "datos_nodo.head()"
   ]
  },
  {
   "cell_type": "code",
   "execution_count": 7,
   "id": "5898237a",
   "metadata": {},
   "outputs": [
    {
     "data": {
      "text/html": [
       "<div>\n",
       "<style scoped>\n",
       "    .dataframe tbody tr th:only-of-type {\n",
       "        vertical-align: middle;\n",
       "    }\n",
       "\n",
       "    .dataframe tbody tr th {\n",
       "        vertical-align: top;\n",
       "    }\n",
       "\n",
       "    .dataframe thead th {\n",
       "        text-align: right;\n",
       "    }\n",
       "</style>\n",
       "<table border=\"1\" class=\"dataframe\">\n",
       "  <thead>\n",
       "    <tr style=\"text-align: right;\">\n",
       "      <th></th>\n",
       "      <th>origen</th>\n",
       "      <th>destino</th>\n",
       "      <th>peso</th>\n",
       "    </tr>\n",
       "  </thead>\n",
       "  <tbody>\n",
       "    <tr>\n",
       "      <th>0</th>\n",
       "      <td>A</td>\n",
       "      <td>B</td>\n",
       "      <td>1</td>\n",
       "    </tr>\n",
       "    <tr>\n",
       "      <th>1</th>\n",
       "      <td>B</td>\n",
       "      <td>C</td>\n",
       "      <td>1</td>\n",
       "    </tr>\n",
       "    <tr>\n",
       "      <th>2</th>\n",
       "      <td>CI</td>\n",
       "      <td>B</td>\n",
       "      <td>1</td>\n",
       "    </tr>\n",
       "    <tr>\n",
       "      <th>3</th>\n",
       "      <td>B</td>\n",
       "      <td>DH</td>\n",
       "      <td>1</td>\n",
       "    </tr>\n",
       "    <tr>\n",
       "      <th>4</th>\n",
       "      <td>B</td>\n",
       "      <td>CK</td>\n",
       "      <td>1</td>\n",
       "    </tr>\n",
       "  </tbody>\n",
       "</table>\n",
       "</div>"
      ],
      "text/plain": [
       "  origen destino  peso\n",
       "0      A       B     1\n",
       "1      B       C     1\n",
       "2     CI       B     1\n",
       "3      B      DH     1\n",
       "4      B      CK     1"
      ]
     },
     "execution_count": 7,
     "metadata": {},
     "output_type": "execute_result"
    }
   ],
   "source": [
    "rutas_nodo = pd.read_csv('nodos_prueba.csv')\n",
    "rutas_nodo.head()"
   ]
  },
  {
   "cell_type": "code",
   "execution_count": 8,
   "id": "d2a11bff",
   "metadata": {},
   "outputs": [
    {
     "data": {
      "text/plain": [
       "NodeDataView({'A': {}, 'B': {}, 'C': {}, 'CI': {}, 'DH': {}, 'CK': {}, 'D': {}, 'E': {}, 'F': {}, 'G': {}, 'H': {}, 'AH': {}, 'I': {}, 'AJ': {}, 'CQ': {}, 'J': {}, 'CR': {}, 'K': {}, 'FZ': {}, 'L': {}, 'GB': {}, 'M': {}, 'BA': {}, 'N': {}, 'BC': {}, 'EO': {}, 'O': {}, 'P': {}, 'Q': {}, 'R': {}, 'S': {}, 'T': {}, 'BG': {}, 'DS': {}, 'DQ': {}, 'AA': {}, 'AB': {}, 'BS': {}, 'AC': {}, 'BU': {}, 'AD': {}, 'BM': {}, 'AE': {}, 'BO': {}, 'AF': {}, 'CO': {}, 'AG': {}, 'EV': {}, 'FV': {}, 'CP': {}, 'AK': {}, 'AL': {}, 'DK': {}, 'AM': {}, 'DI': {}, 'AN': {}, 'AO': {}, 'AP': {}, 'FK': {}, 'AQ': {}, 'FL': {}, 'AR': {}, 'AS': {}, 'AT': {}, 'AU': {}, 'AV': {}, 'AW': {}, 'AX': {}, 'AY': {}, 'BK': {}, 'AZ': {}, 'BL': {}, 'ER': {}, 'BD': {}, 'DN': {}, 'BE': {}, 'CU': {}, 'CW': {}, 'CT': {}, 'BH': {}, 'BI': {}, 'EL': {}, 'BJ': {}, 'EN': {}, 'BP': {}, 'BQ': {}, 'BV': {}, 'BX': {}, 'BY': {}, 'BZ': {}, 'CA': {}, 'CB': {}, 'CC': {}, 'CD': {}, 'CF': {}, 'CG': {}, 'CH': {}, 'CL': {}, 'CM': {}, 'FM': {}, 'CN': {}, 'ES': {}, 'FY': {}, 'CS': {}, 'GD': {}, 'CX': {}, 'CY': {}, 'CZ': {}, 'DA': {}, 'DB': {}, 'FG': {}, 'DC': {}, 'FI': {}, 'DD': {}, 'DE': {}, 'DF': {}, 'DO': {}, 'DP': {}, 'DT': {}, 'DU': {}, 'DV': {}, 'DW': {}, 'DX': {}, 'DY': {}, 'DZ': {}, 'EA': {}, 'EB': {}, 'EC': {}, 'ED': {}, 'EE': {}, 'EF': {}, 'EG': {}, 'EH': {}, 'EI': {}, 'EJ': {}, 'EK': {}, 'EW': {}, 'EX': {}, 'EY': {}, 'EZ': {}, 'FA': {}, 'FB': {}, 'FC': {}, 'FD': {}, 'FE': {}, 'FF': {}, 'FJ': {}, 'FN': {}, 'FO': {}, 'FP': {}, 'FQ': {}, 'FR': {}, 'FS': {}, 'FT': {}, 'FU': {}, 'GE': {}, 'GF': {}, 'GG': {}, 'GH': {}, 'GI': {}, 'GJ': {}, 'GK': {}})"
      ]
     },
     "execution_count": 8,
     "metadata": {},
     "output_type": "execute_result"
    }
   ],
   "source": [
    "DG=nx.DiGraph()\n",
    "for filas in rutas_nodo.iterrows():\n",
    "    DG.add_edge(filas[1][\"origen\"],\n",
    "               filas[1][\"destino\"],\n",
    "               peso=filas[1][\"peso\"])\n",
    "DG.nodes(data=True)"
   ]
  },
  {
   "cell_type": "code",
   "execution_count": 9,
   "id": "412daddc",
   "metadata": {},
   "outputs": [
    {
     "data": {
      "image/png": "[encoded data removed]",
      "text/plain": [
       "<Figure size 640x480 with 1 Axes>"
      ]
     },
     "metadata": {},
     "output_type": "display_data"
    }
   ],
   "source": [
    "nx.draw_networkx(DG,\n",
    "                node_color='lightblue',\n",
    "                edge_color='gray',\n",
    "                font_size=24,\n",
    "                width=4,with_labels=True,node_size=3500,)"
   ]
  },
  {
   "cell_type": "code",
   "execution_count": 42,
   "id": "ed940162",
   "metadata": {
    "scrolled": true
   },
   "outputs": [
    {
     "data": {
      "text/plain": [
       "[['CA',\n",
       "  'CB',\n",
       "  'CC',\n",
       "  'CD',\n",
       "  'CF',\n",
       "  'CG',\n",
       "  'CH',\n",
       "  'CI',\n",
       "  'B',\n",
       "  'DH',\n",
       "  'DI',\n",
       "  'DK',\n",
       "  'DN',\n",
       "  'DO',\n",
       "  'DP',\n",
       "  'DQ',\n",
       "  'T']]"
      ]
     },
     "execution_count": 42,
     "metadata": {},
     "output_type": "execute_result"
    }
   ],
   "source": [
    "list(nx.all_shortest_paths(DG, source = \"CA\", target = \"T\", weight = None))"
   ]
  },
  {
   "cell_type": "code",
   "execution_count": 45,
   "id": "e1f3d924",
   "metadata": {
    "scrolled": true
   },
   "outputs": [],
   "source": [
    "resultadoRuta = list(nx.dijkstra_path(DG, source = \"CA\", target = \"T\", weight = \"peso\"))"
   ]
  },
  {
   "cell_type": "code",
   "execution_count": 36,
   "id": "3b4cbb24",
   "metadata": {},
   "outputs": [
    {
     "data": {
      "text/plain": [
       "'Pantitlán'"
      ]
     },
     "execution_count": 36,
     "metadata": {},
     "output_type": "execute_result"
    }
   ],
   "source": [
    "datos_nodo.loc['T']['estacion']"
   ]
  },
  {
   "cell_type": "code",
   "execution_count": 44,
   "id": "b5e0047c",
   "metadata": {},
   "outputs": [],
   "source": [
    "def ruta(ruta):\n",
    "    total_peso=0\n",
    "    for i in range(len(ruta)-1):\n",
    "        origen=ruta[i]\n",
    "        destino=ruta[i+1]\n",
    "        peso=DG[origen][destino][\"peso\"]\n",
    "        total_peso=total_peso+peso\n",
    "        print(\" %s->%s\\n Peso: %s \" % \n",
    "              (datos_nodo.loc[origen]['estacion'],\n",
    "               datos_nodo.loc[destino]['estacion'],peso))\n",
    "    print(\"\\n Peso total=%s\"%(total_peso))"
   ]
  },
  {
   "cell_type": "code",
   "execution_count": 46,
   "id": "b10a5c8f",
   "metadata": {},
   "outputs": [
    {
     "name": "stdout",
     "output_type": "stream",
     "text": [
      " El Rosario->Aquiles Serdán\n",
      " Peso: 1 \n",
      " Aquiles Serdán->Camarones\n",
      " Peso: 1 \n",
      " Camarones->Refineria\n",
      " Peso: 1 \n",
      " Refineria->San Joaquín\n",
      " Peso: 1 \n",
      " San Joaquín->Polanco\n",
      " Peso: 1 \n",
      " Polanco->Auditorio\n",
      " Peso: 1 \n",
      " Auditorio->Constituyentes\n",
      " Peso: 1 \n",
      " Constituyentes->Tacubaya\n",
      " Peso: 1 \n",
      " Tacubaya->Patriotismo\n",
      " Peso: 1 \n",
      " Patriotismo->Chilpancingo\n",
      " Peso: 1 \n",
      " Chilpancingo->Lázaro Cárdenas\n",
      " Peso: 1 \n",
      " Lázaro Cárdenas->Mixiuhca\n",
      " Peso: 1 \n",
      " Mixiuhca->Velódromo\n",
      " Peso: 1 \n",
      " Velódromo->Ciudad Deportiva\n",
      " Peso: 1 \n",
      " Ciudad Deportiva->Puebla\n",
      " Peso: 1 \n",
      " Puebla->Pantitlán\n",
      " Peso: 1 \n",
      "\n",
      " Peso total=16\n"
     ]
    }
   ],
   "source": [
    "ruta(resultadoRuta)"
   ]
  },
  {
   "cell_type": "code",
   "execution_count": null,
   "id": "f4407d64",
   "metadata": {},
   "outputs": [],
   "source": []
  }
 ],
 "metadata": {
  "kernelspec": {
   "display_name": "Python 3 (ipykernel)",
   "language": "python",
   "name": "python3"
  },
  "language_info": {
   "codemirror_mode": {
    "name": "ipython",
    "version": 3
   },
   "file_extension": ".py",
   "mimetype": "text/x-python",
   "name": "python",
   "nbconvert_exporter": "python",
   "pygments_lexer": "ipython3",
   "version": "3.11.5"
  }
 },
 "nbformat": 4,
 "nbformat_minor": 5
}
