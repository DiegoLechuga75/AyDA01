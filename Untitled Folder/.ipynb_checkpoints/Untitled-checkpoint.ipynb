{
 "cells": [
  {
   "cell_type": "code",
   "execution_count": 1,
   "id": "fd2fce41",
   "metadata": {},
   "outputs": [],
   "source": [
    "def funcionEscalon(k,pesos,b):\n",
    "    n = -b\n",
    "    for i in range(len(k)):\n",
    "        n = n + (k[i] * pesos[i])\n",
    "    if (n >= 0):\n",
    "        return 1\n",
    "    else:\n",
    "        return 0"
   ]
  },
  {
   "cell_type": "code",
   "execution_count": 5,
   "id": "2087f999",
   "metadata": {},
   "outputs": [],
   "source": [
    "def entrenarPerceptron(datosEntrada, pesos, b, lamda):\n",
    "    epocas = 0\n",
    "    errores = True\n",
    "    while errores:\n",
    "        epocas += 1\n",
    "        print(\"Epoca: \", epocas)\n",
    "        errores = False\n",
    "        for k, y in datosEntrada.items():\n",
    "            n = funcionEscalon(k, pesos, b)\n",
    "            if n != y:\n",
    "                print(\"Hay ajuste\")\n",
    "                print(\"p1: \",k[0], \" p2: \", k[1])\n",
    "                errores = True\n",
    "                e = y - n\n",
    "                deltaB = -(lamda * e)\n",
    "                print(\"b: \", b, \" e: \", e, \" deltaB: \", deltaB)\n",
    "                for i in range(len(k)):\n",
    "                    delta_w = lamda * e * k[i]\n",
    "                    pesos[i] = pesos[i] + delta_w\n",
    "                    print(\"Pesos: \", i, \" \", pesos[i])\n",
    "            else:\n",
    "                print(\"No hay ajuste\")\n",
    "                print(\"p1: \",k[0], \" p2: \", k[1])\n",
    "                e = y - n\n",
    "                deltaB = -(lamda * e)\n",
    "                print(\"b: \", b, \" e: \", e, \" deltaB: \", deltaB)\n",
    "        print()\n",
    "    return pesos, b\n",
    "\n",
    "def clasificar(entrada, pesos, b):\n",
    "    return funcionEscalon(entrada, pesos, b)"
   ]
  },
  {
   "cell_type": "code",
   "execution_count": 8,
   "id": "2e14b758",
   "metadata": {},
   "outputs": [
    {
     "name": "stdout",
     "output_type": "stream",
     "text": [
      "Epoca:  1\n",
      "No hay ajuste\n",
      "p1:  0  p2:  0\n",
      "b:  1  e:  0  deltaB:  -0.0\n",
      "No hay ajuste\n",
      "p1:  0  p2:  1\n",
      "b:  1  e:  0  deltaB:  -0.0\n",
      "No hay ajuste\n",
      "p1:  1  p2:  0\n",
      "b:  1  e:  0  deltaB:  -0.0\n",
      "No hay ajuste\n",
      "p1:  1  p2:  1\n",
      "b:  1  e:  0  deltaB:  -0.0\n",
      "\n",
      "Pesos finales:  [0.5, 0.5]\n",
      "Bias Final:  1\n",
      "Probando perceptron(1,0): 0\n"
     ]
    }
   ],
   "source": [
    "if __name__ == \"__main__\":\n",
    "    datosEntrada = {(0,0):0,(0,1):1,(1,0):1,(1,1):1}\n",
    "    pesos = [.2,.6]\n",
    "    b = .4\n",
    "    lamda = .6\n",
    "    pesos, b = entrenarPerceptron(datosEntrada, pesos, b, lamda)\n",
    "    print(\"Pesos finales: \", pesos)\n",
    "    print(\"Bias Final: \", b)\n",
    "    print(\"Probando perceptron(1,0): \"+str(clasificar((1,0),pesos,b)))\n"
   ]
  },
  {
   "cell_type": "code",
   "execution_count": null,
   "id": "acae85cd",
   "metadata": {},
   "outputs": [],
   "source": []
  }
 ],
 "metadata": {
  "kernelspec": {
   "display_name": "Python 3 (ipykernel)",
   "language": "python",
   "name": "python3"
  },
  "language_info": {
   "codemirror_mode": {
    "name": "ipython",
    "version": 3
   },
   "file_extension": ".py",
   "mimetype": "text/x-python",
   "name": "python",
   "nbconvert_exporter": "python",
   "pygments_lexer": "ipython3",
   "version": "3.11.5"
  }
 },
 "nbformat": 4,
 "nbformat_minor": 5
}
