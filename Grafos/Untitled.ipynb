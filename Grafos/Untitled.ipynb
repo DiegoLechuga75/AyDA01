{
 "cells": [
  {
   "cell_type": "code",
   "execution_count": 2,
   "id": "f29d209e",
   "metadata": {},
   "outputs": [],
   "source": [
    "import pandas as pd\n",
    "import networkx as nx\n",
    "from IPython.display import HTML\n",
    "import matplotlib.pyplot as plt\n",
    "%matplotlib inline"
   ]
  },
  {
   "cell_type": "code",
   "execution_count": 3,
   "id": "1acedc60",
   "metadata": {},
   "outputs": [
    {
     "data": {
      "text/html": [
       "<div>\n",
       "<style scoped>\n",
       "    .dataframe tbody tr th:only-of-type {\n",
       "        vertical-align: middle;\n",
       "    }\n",
       "\n",
       "    .dataframe tbody tr th {\n",
       "        vertical-align: top;\n",
       "    }\n",
       "\n",
       "    .dataframe thead th {\n",
       "        text-align: right;\n",
       "    }\n",
       "</style>\n",
       "<table border=\"1\" class=\"dataframe\">\n",
       "  <thead>\n",
       "    <tr style=\"text-align: right;\">\n",
       "      <th></th>\n",
       "      <th>nombre</th>\n",
       "      <th>ciudad</th>\n",
       "    </tr>\n",
       "  </thead>\n",
       "  <tbody>\n",
       "    <tr>\n",
       "      <th>0</th>\n",
       "      <td>A</td>\n",
       "      <td>Mexico</td>\n",
       "    </tr>\n",
       "    <tr>\n",
       "      <th>1</th>\n",
       "      <td>B</td>\n",
       "      <td>Hidalgo</td>\n",
       "    </tr>\n",
       "    <tr>\n",
       "      <th>2</th>\n",
       "      <td>C</td>\n",
       "      <td>Veracruz</td>\n",
       "    </tr>\n",
       "    <tr>\n",
       "      <th>3</th>\n",
       "      <td>D</td>\n",
       "      <td>Yucatan</td>\n",
       "    </tr>\n",
       "    <tr>\n",
       "      <th>4</th>\n",
       "      <td>E</td>\n",
       "      <td>Oaxaca</td>\n",
       "    </tr>\n",
       "  </tbody>\n",
       "</table>\n",
       "</div>"
      ],
      "text/plain": [
       "  nombre    ciudad\n",
       "0      A    Mexico\n",
       "1      B   Hidalgo\n",
       "2      C  Veracruz\n",
       "3      D   Yucatan\n",
       "4      E    Oaxaca"
      ]
     },
     "execution_count": 3,
     "metadata": {},
     "output_type": "execute_result"
    }
   ],
   "source": [
    "datos_nodo = pd.read_csv('datos_nodo_prueba.csv')\n",
    "datos_nodo.head()"
   ]
  },
  {
   "cell_type": "code",
   "execution_count": 4,
   "id": "941bfcdb",
   "metadata": {},
   "outputs": [
    {
     "data": {
      "text/html": [
       "<div>\n",
       "<style scoped>\n",
       "    .dataframe tbody tr th:only-of-type {\n",
       "        vertical-align: middle;\n",
       "    }\n",
       "\n",
       "    .dataframe tbody tr th {\n",
       "        vertical-align: top;\n",
       "    }\n",
       "\n",
       "    .dataframe thead th {\n",
       "        text-align: right;\n",
       "    }\n",
       "</style>\n",
       "<table border=\"1\" class=\"dataframe\">\n",
       "  <thead>\n",
       "    <tr style=\"text-align: right;\">\n",
       "      <th></th>\n",
       "      <th>ciudad</th>\n",
       "    </tr>\n",
       "    <tr>\n",
       "      <th>nombre</th>\n",
       "      <th></th>\n",
       "    </tr>\n",
       "  </thead>\n",
       "  <tbody>\n",
       "    <tr>\n",
       "      <th>A</th>\n",
       "      <td>Mexico</td>\n",
       "    </tr>\n",
       "    <tr>\n",
       "      <th>B</th>\n",
       "      <td>Hidalgo</td>\n",
       "    </tr>\n",
       "    <tr>\n",
       "      <th>C</th>\n",
       "      <td>Veracruz</td>\n",
       "    </tr>\n",
       "    <tr>\n",
       "      <th>D</th>\n",
       "      <td>Yucatan</td>\n",
       "    </tr>\n",
       "    <tr>\n",
       "      <th>E</th>\n",
       "      <td>Oaxaca</td>\n",
       "    </tr>\n",
       "  </tbody>\n",
       "</table>\n",
       "</div>"
      ],
      "text/plain": [
       "          ciudad\n",
       "nombre          \n",
       "A         Mexico\n",
       "B        Hidalgo\n",
       "C       Veracruz\n",
       "D        Yucatan\n",
       "E         Oaxaca"
      ]
     },
     "execution_count": 4,
     "metadata": {},
     "output_type": "execute_result"
    }
   ],
   "source": [
    "datos_nodo.set_index('nombre', inplace = True)\n",
    "datos_nodo.head()"
   ]
  },
  {
   "cell_type": "code",
   "execution_count": 47,
   "id": "b34fa101",
   "metadata": {},
   "outputs": [
    {
     "data": {
      "text/html": [
       "<div>\n",
       "<style scoped>\n",
       "    .dataframe tbody tr th:only-of-type {\n",
       "        vertical-align: middle;\n",
       "    }\n",
       "\n",
       "    .dataframe tbody tr th {\n",
       "        vertical-align: top;\n",
       "    }\n",
       "\n",
       "    .dataframe thead th {\n",
       "        text-align: right;\n",
       "    }\n",
       "</style>\n",
       "<table border=\"1\" class=\"dataframe\">\n",
       "  <thead>\n",
       "    <tr style=\"text-align: right;\">\n",
       "      <th></th>\n",
       "      <th>origen</th>\n",
       "      <th>destino</th>\n",
       "      <th>peso</th>\n",
       "    </tr>\n",
       "  </thead>\n",
       "  <tbody>\n",
       "    <tr>\n",
       "      <th>0</th>\n",
       "      <td>A</td>\n",
       "      <td>B</td>\n",
       "      <td>1</td>\n",
       "    </tr>\n",
       "    <tr>\n",
       "      <th>1</th>\n",
       "      <td>A</td>\n",
       "      <td>C</td>\n",
       "      <td>6</td>\n",
       "    </tr>\n",
       "    <tr>\n",
       "      <th>2</th>\n",
       "      <td>B</td>\n",
       "      <td>C</td>\n",
       "      <td>3</td>\n",
       "    </tr>\n",
       "    <tr>\n",
       "      <th>3</th>\n",
       "      <td>B</td>\n",
       "      <td>E</td>\n",
       "      <td>6</td>\n",
       "    </tr>\n",
       "    <tr>\n",
       "      <th>4</th>\n",
       "      <td>B</td>\n",
       "      <td>D</td>\n",
       "      <td>4</td>\n",
       "    </tr>\n",
       "  </tbody>\n",
       "</table>\n",
       "</div>"
      ],
      "text/plain": [
       "  origen destino  peso\n",
       "0      A       B     1\n",
       "1      A       C     6\n",
       "2      B       C     3\n",
       "3      B       E     6\n",
       "4      B       D     4"
      ]
     },
     "execution_count": 47,
     "metadata": {},
     "output_type": "execute_result"
    }
   ],
   "source": [
    "rutas_nodo = pd.read_csv('nodos_prueba.csv')\n",
    "rutas_nodo.head()"
   ]
  },
  {
   "cell_type": "code",
   "execution_count": 48,
   "id": "18fbb467",
   "metadata": {},
   "outputs": [
    {
     "data": {
      "text/plain": [
       "NodeDataView({'A': {}, 'B': {}, 'C': {}, 'E': {}, 'D': {}, 'F': {}})"
      ]
     },
     "execution_count": 48,
     "metadata": {},
     "output_type": "execute_result"
    }
   ],
   "source": [
    "DG=nx.DiGraph()\n",
    "for filas in rutas_nodo.iterrows():\n",
    "    DG.add_edge(filas[1][\"origen\"],\n",
    "               filas[1][\"destino\"],\n",
    "               peso=filas[1][\"peso\"])\n",
    "DG.nodes(data=True)"
   ]
  },
  {
   "cell_type": "code",
   "execution_count": 52,
   "id": "ee47e93f",
   "metadata": {
    "scrolled": true
   },
   "outputs": [
    {
     "data": {
      "image/png": "[encoded data removed]",
      "text/plain": [
       "<Figure size 640x480 with 1 Axes>"
      ]
     },
     "metadata": {},
     "output_type": "display_data"
    }
   ],
   "source": [
    "nx.draw_networkx(DG,\n",
    "                node_color='lightblue',\n",
    "                edge_color='gray',\n",
    "                font_size=24,\n",
    "                width=4,with_labels=True,node_size=3500,)"
   ]
  },
  {
   "cell_type": "code",
   "execution_count": 41,
   "id": "f18c2702",
   "metadata": {},
   "outputs": [
    {
     "data": {
      "text/plain": [
       "[['A', 'B', 'E', 'F'],\n",
       " ['A', 'C', 'E', 'F'],\n",
       " ['A', 'B', 'D', 'F'],\n",
       " ['A', 'C', 'D', 'F']]"
      ]
     },
     "execution_count": 41,
     "metadata": {},
     "output_type": "execute_result"
    }
   ],
   "source": [
    "list(nx.all_shortest_paths(DG, source = \"A\", target = \"F\", weight = None))"
   ]
  },
  {
   "cell_type": "code",
   "execution_count": 16,
   "id": "e628a957",
   "metadata": {},
   "outputs": [
    {
     "data": {
      "text/plain": [
       "['A', 'B', 'E', 'F']"
      ]
     },
     "execution_count": 16,
     "metadata": {},
     "output_type": "execute_result"
    }
   ],
   "source": [
    "list(nx.dijkstra_path(DG, source = \"A\", target = \"F\", weight = None))"
   ]
  },
  {
   "cell_type": "code",
   "execution_count": 18,
   "id": "4c326be9",
   "metadata": {},
   "outputs": [
    {
     "data": {
      "text/plain": [
       "['A', 'B', 'D', 'F']"
      ]
     },
     "execution_count": 18,
     "metadata": {},
     "output_type": "execute_result"
    }
   ],
   "source": [
    "list(nx.dijkstra_path(DG, source = \"A\", target = \"F\", weight = \"peso\"))"
   ]
  },
  {
   "cell_type": "code",
   "execution_count": 23,
   "id": "4810b670",
   "metadata": {},
   "outputs": [
    {
     "data": {
      "text/plain": [
       "'Hidalgo'"
      ]
     },
     "execution_count": 23,
     "metadata": {},
     "output_type": "execute_result"
    }
   ],
   "source": [
    "datos_nodo.loc['B']['ciudad']"
   ]
  },
  {
   "cell_type": "code",
   "execution_count": 24,
   "id": "aa08dce5",
   "metadata": {},
   "outputs": [],
   "source": [
    "def ruta(ruta):\n",
    "    total_peso=0\n",
    "    for i in range(len(ruta)-1):\n",
    "        origen=ruta[i]\n",
    "        destino=ruta[i+1]\n",
    "        peso=DG[origen][destino][\"peso\"]\n",
    "        total_peso=total_peso+peso\n",
    "        print(\" %s->%s\\n Peso: %s \" % \n",
    "              (datos_nodo.loc[origen]['ciudad'],\n",
    "               datos_nodo.loc[destino]['ciudad'],peso))\n",
    "    print(\"\\n Peso total=%s\"%(total_peso))"
   ]
  },
  {
   "cell_type": "code",
   "execution_count": 37,
   "id": "01413f26",
   "metadata": {},
   "outputs": [
    {
     "name": "stdout",
     "output_type": "stream",
     "text": [
      " Mexico->Hidalgo\n",
      " Peso: 1 \n",
      " Hidalgo->Yucatan\n",
      " Peso: 4 \n",
      " Yucatan->Quintana Roo\n",
      " Peso: 3 \n",
      "\n",
      " Peso total=8\n"
     ]
    }
   ],
   "source": [
    "ruta(['A', 'B', 'D', 'F'])"
   ]
  },
  {
   "cell_type": "code",
   "execution_count": null,
   "id": "80b40b1c",
   "metadata": {},
   "outputs": [],
   "source": []
  }
 ],
 "metadata": {
  "kernelspec": {
   "display_name": "Python 3 (ipykernel)",
   "language": "python",
   "name": "python3"
  },
  "language_info": {
   "codemirror_mode": {
    "name": "ipython",
    "version": 3
   },
   "file_extension": ".py",
   "mimetype": "text/x-python",
   "name": "python",
   "nbconvert_exporter": "python",
   "pygments_lexer": "ipython3",
   "version": "3.11.5"
  }
 },
 "nbformat": 4,
 "nbformat_minor": 5
}
